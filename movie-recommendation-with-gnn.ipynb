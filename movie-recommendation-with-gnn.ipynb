{
 "cells": [
  {
   "cell_type": "code",
   "execution_count": 1,
   "id": "fd4249e9",
   "metadata": {
    "collapsed": true,
    "execution": {
     "iopub.execute_input": "2024-12-27T20:16:25.625175Z",
     "iopub.status.busy": "2024-12-27T20:16:25.624931Z",
     "iopub.status.idle": "2024-12-27T20:16:59.932370Z",
     "shell.execute_reply": "2024-12-27T20:16:59.931320Z"
    },
    "jupyter": {
     "outputs_hidden": true
    },
    "papermill": {
     "duration": 34.31382,
     "end_time": "2024-12-27T20:16:59.934333",
     "exception": false,
     "start_time": "2024-12-27T20:16:25.620513",
     "status": "completed"
    },
    "tags": []
   },
   "outputs": [
    {
     "name": "stdout",
     "output_type": "stream",
     "text": [
      "Collecting pyspark\r\n",
      "  Downloading pyspark-3.5.4.tar.gz (317.3 MB)\r\n",
      "\u001b[2K     \u001b[90m━━━━━━━━━━━━━━━━━━━━━━━━━━━━━━━━━━━━━━━━\u001b[0m \u001b[32m317.3/317.3 MB\u001b[0m \u001b[31m5.4 MB/s\u001b[0m eta \u001b[36m0:00:00\u001b[0m\r\n",
      "\u001b[?25h  Preparing metadata (setup.py) ... \u001b[?25l\u001b[?25hdone\r\n",
      "Requirement already satisfied: py4j==0.10.9.7 in /usr/local/lib/python3.10/dist-packages (from pyspark) (0.10.9.7)\r\n",
      "Building wheels for collected packages: pyspark\r\n",
      "  Building wheel for pyspark (setup.py) ... \u001b[?25l\u001b[?25hdone\r\n",
      "  Created wheel for pyspark: filename=pyspark-3.5.4-py2.py3-none-any.whl size=317849765 sha256=41788aa65a2ed0a278d1670b01b304a4c44ced04554b2619cf21e8c5ca963b73\r\n",
      "  Stored in directory: /root/.cache/pip/wheels/d9/1c/98/31e395a42d1735d18d42124971ecbbade844b50bb9845b6f4a\r\n",
      "Successfully built pyspark\r\n",
      "Installing collected packages: pyspark\r\n",
      "Successfully installed pyspark-3.5.4\r\n"
     ]
    }
   ],
   "source": [
    "!pip install pyspark"
   ]
  },
  {
   "cell_type": "code",
   "execution_count": 2,
   "id": "cdf06928",
   "metadata": {
    "collapsed": true,
    "execution": {
     "iopub.execute_input": "2024-12-27T20:16:59.961857Z",
     "iopub.status.busy": "2024-12-27T20:16:59.961514Z",
     "iopub.status.idle": "2024-12-27T20:17:04.648494Z",
     "shell.execute_reply": "2024-12-27T20:17:04.647650Z"
    },
    "jupyter": {
     "outputs_hidden": true
    },
    "papermill": {
     "duration": 4.702308,
     "end_time": "2024-12-27T20:17:04.650099",
     "exception": false,
     "start_time": "2024-12-27T20:16:59.947791",
     "status": "completed"
    },
    "tags": []
   },
   "outputs": [
    {
     "name": "stdout",
     "output_type": "stream",
     "text": [
      "Collecting torch-geometric\r\n",
      "  Downloading torch_geometric-2.6.1-py3-none-any.whl.metadata (63 kB)\r\n",
      "\u001b[2K     \u001b[90m━━━━━━━━━━━━━━━━━━━━━━━━━━━━━━━━━━━━━━━━\u001b[0m \u001b[32m63.1/63.1 kB\u001b[0m \u001b[31m2.6 MB/s\u001b[0m eta \u001b[36m0:00:00\u001b[0m\r\n",
      "\u001b[?25hRequirement already satisfied: aiohttp in /usr/local/lib/python3.10/dist-packages (from torch-geometric) (3.10.5)\r\n",
      "Requirement already satisfied: fsspec in /usr/local/lib/python3.10/dist-packages (from torch-geometric) (2024.6.1)\r\n",
      "Requirement already satisfied: jinja2 in /usr/local/lib/python3.10/dist-packages (from torch-geometric) (3.1.4)\r\n",
      "Requirement already satisfied: numpy in /usr/local/lib/python3.10/dist-packages (from torch-geometric) (1.26.4)\r\n",
      "Requirement already satisfied: psutil>=5.8.0 in /usr/local/lib/python3.10/dist-packages (from torch-geometric) (5.9.5)\r\n",
      "Requirement already satisfied: pyparsing in /usr/local/lib/python3.10/dist-packages (from torch-geometric) (3.1.4)\r\n",
      "Requirement already satisfied: requests in /usr/local/lib/python3.10/dist-packages (from torch-geometric) (2.32.3)\r\n",
      "Requirement already satisfied: tqdm in /usr/local/lib/python3.10/dist-packages (from torch-geometric) (4.66.5)\r\n",
      "Requirement already satisfied: aiohappyeyeballs>=2.3.0 in /usr/local/lib/python3.10/dist-packages (from aiohttp->torch-geometric) (2.4.0)\r\n",
      "Requirement already satisfied: aiosignal>=1.1.2 in /usr/local/lib/python3.10/dist-packages (from aiohttp->torch-geometric) (1.3.1)\r\n",
      "Requirement already satisfied: attrs>=17.3.0 in /usr/local/lib/python3.10/dist-packages (from aiohttp->torch-geometric) (24.2.0)\r\n",
      "Requirement already satisfied: frozenlist>=1.1.1 in /usr/local/lib/python3.10/dist-packages (from aiohttp->torch-geometric) (1.4.1)\r\n",
      "Requirement already satisfied: multidict<7.0,>=4.5 in /usr/local/lib/python3.10/dist-packages (from aiohttp->torch-geometric) (6.1.0)\r\n",
      "Requirement already satisfied: yarl<2.0,>=1.0 in /usr/local/lib/python3.10/dist-packages (from aiohttp->torch-geometric) (1.11.1)\r\n",
      "Requirement already satisfied: async-timeout<5.0,>=4.0 in /usr/local/lib/python3.10/dist-packages (from aiohttp->torch-geometric) (4.0.3)\r\n",
      "Requirement already satisfied: MarkupSafe>=2.0 in /usr/local/lib/python3.10/dist-packages (from jinja2->torch-geometric) (2.1.5)\r\n",
      "Requirement already satisfied: charset-normalizer<4,>=2 in /usr/local/lib/python3.10/dist-packages (from requests->torch-geometric) (3.3.2)\r\n",
      "Requirement already satisfied: idna<4,>=2.5 in /usr/local/lib/python3.10/dist-packages (from requests->torch-geometric) (3.10)\r\n",
      "Requirement already satisfied: urllib3<3,>=1.21.1 in /usr/local/lib/python3.10/dist-packages (from requests->torch-geometric) (2.2.3)\r\n",
      "Requirement already satisfied: certifi>=2017.4.17 in /usr/local/lib/python3.10/dist-packages (from requests->torch-geometric) (2024.8.30)\r\n",
      "Requirement already satisfied: typing-extensions>=4.1.0 in /usr/local/lib/python3.10/dist-packages (from multidict<7.0,>=4.5->aiohttp->torch-geometric) (4.12.2)\r\n",
      "Downloading torch_geometric-2.6.1-py3-none-any.whl (1.1 MB)\r\n",
      "\u001b[2K   \u001b[90m━━━━━━━━━━━━━━━━━━━━━━━━━━━━━━━━━━━━━━━━\u001b[0m \u001b[32m1.1/1.1 MB\u001b[0m \u001b[31m24.2 MB/s\u001b[0m eta \u001b[36m0:00:00\u001b[0m\r\n",
      "\u001b[?25hInstalling collected packages: torch-geometric\r\n",
      "Successfully installed torch-geometric-2.6.1\r\n"
     ]
    }
   ],
   "source": [
    "!pip install torch-geometric"
   ]
  },
  {
   "cell_type": "code",
   "execution_count": 3,
   "id": "fda735c0",
   "metadata": {
    "_cell_guid": "b1076dfc-b9ad-4769-8c92-a6c4dae69d19",
    "_uuid": "8f2839f25d086af736a60e9eeb907d3b93b6e0e5",
    "execution": {
     "iopub.execute_input": "2024-12-27T20:17:04.665242Z",
     "iopub.status.busy": "2024-12-27T20:17:04.664968Z",
     "iopub.status.idle": "2024-12-27T20:17:13.208416Z",
     "shell.execute_reply": "2024-12-27T20:17:13.207466Z"
    },
    "papermill": {
     "duration": 8.552528,
     "end_time": "2024-12-27T20:17:13.209956",
     "exception": false,
     "start_time": "2024-12-27T20:17:04.657428",
     "status": "completed"
    },
    "tags": []
   },
   "outputs": [],
   "source": [
    "from pyspark.sql import SparkSession\n",
    "from pyspark.sql.functions import col, lit, isnan, when, count\n",
    "import pandas as pd\n",
    "import numpy as np\n",
    "import torch\n",
    "from torch_geometric.data import Data\n",
    "from torch_geometric.nn import GCNConv\n",
    "from torch.nn import Linear, ReLU, Dropout, BatchNorm1d\n",
    "from sklearn.model_selection import train_test_split"
   ]
  },
  {
   "cell_type": "code",
   "execution_count": 4,
   "id": "0c08cb69",
   "metadata": {
    "execution": {
     "iopub.execute_input": "2024-12-27T20:17:13.225417Z",
     "iopub.status.busy": "2024-12-27T20:17:13.224985Z",
     "iopub.status.idle": "2024-12-27T20:17:17.705920Z",
     "shell.execute_reply": "2024-12-27T20:17:17.705004Z"
    },
    "papermill": {
     "duration": 4.490299,
     "end_time": "2024-12-27T20:17:17.707671",
     "exception": false,
     "start_time": "2024-12-27T20:17:13.217372",
     "status": "completed"
    },
    "tags": []
   },
   "outputs": [],
   "source": [
    "spark = SparkSession.builder.appName('MovieLens') \\\n",
    "    .config(\"spark.driver.memory\", \"4g\") \\\n",
    "    .config(\"spark.executor.memory\", \"4g\") \\\n",
    "    .config(\"spark.rapids.sql.enabled\", \"true\") \\\n",
    "    .config(\"spark.rapids.sql.explain\", \"ALL\") \\\n",
    "    .config(\"spark.sql.execution.arrow.pyspark.enabled\", \"true\") \\\n",
    "    .config(\"spark.rapids.memory.pinnedPool.size\", \"2G\") \\\n",
    "    .getOrCreate()"
   ]
  },
  {
   "cell_type": "code",
   "execution_count": 5,
   "id": "0168df82",
   "metadata": {
    "execution": {
     "iopub.execute_input": "2024-12-27T20:17:17.722832Z",
     "iopub.status.busy": "2024-12-27T20:17:17.722575Z",
     "iopub.status.idle": "2024-12-27T20:17:17.725998Z",
     "shell.execute_reply": "2024-12-27T20:17:17.725380Z"
    },
    "papermill": {
     "duration": 0.012223,
     "end_time": "2024-12-27T20:17:17.727261",
     "exception": false,
     "start_time": "2024-12-27T20:17:17.715038",
     "status": "completed"
    },
    "tags": []
   },
   "outputs": [],
   "source": [
    "PATH = \"/kaggle/input/movielens100k/\""
   ]
  },
  {
   "cell_type": "code",
   "execution_count": 6,
   "id": "1bd5d085",
   "metadata": {
    "execution": {
     "iopub.execute_input": "2024-12-27T20:17:17.741695Z",
     "iopub.status.busy": "2024-12-27T20:17:17.741458Z",
     "iopub.status.idle": "2024-12-27T20:17:23.741242Z",
     "shell.execute_reply": "2024-12-27T20:17:23.740123Z"
    },
    "papermill": {
     "duration": 6.009453,
     "end_time": "2024-12-27T20:17:23.743658",
     "exception": false,
     "start_time": "2024-12-27T20:17:17.734205",
     "status": "completed"
    },
    "tags": []
   },
   "outputs": [],
   "source": [
    "ratings_path = PATH + \"ratings.csv\"\n",
    "movies_path = PATH + \"movies.csv\"\n",
    "\n",
    "ratings_df = spark.read.csv(ratings_path, header=True, inferSchema=True)\n",
    "movies_df = spark.read.csv(movies_path, header=True, inferSchema=True)"
   ]
  },
  {
   "cell_type": "code",
   "execution_count": 7,
   "id": "b2b946ce",
   "metadata": {
    "execution": {
     "iopub.execute_input": "2024-12-27T20:17:23.770948Z",
     "iopub.status.busy": "2024-12-27T20:17:23.770578Z",
     "iopub.status.idle": "2024-12-27T20:17:24.547024Z",
     "shell.execute_reply": "2024-12-27T20:17:24.545374Z"
    },
    "papermill": {
     "duration": 0.792357,
     "end_time": "2024-12-27T20:17:24.549659",
     "exception": false,
     "start_time": "2024-12-27T20:17:23.757302",
     "status": "completed"
    },
    "tags": []
   },
   "outputs": [
    {
     "name": "stdout",
     "output_type": "stream",
     "text": [
      "100004\n",
      "9125\n"
     ]
    }
   ],
   "source": [
    "print(ratings_df.count())\n",
    "print(movies_df.count())"
   ]
  },
  {
   "cell_type": "code",
   "execution_count": 8,
   "id": "6efe5ca5",
   "metadata": {
    "execution": {
     "iopub.execute_input": "2024-12-27T20:17:24.564779Z",
     "iopub.status.busy": "2024-12-27T20:17:24.564517Z",
     "iopub.status.idle": "2024-12-27T20:17:24.762221Z",
     "shell.execute_reply": "2024-12-27T20:17:24.761208Z"
    },
    "papermill": {
     "duration": 0.206829,
     "end_time": "2024-12-27T20:17:24.763823",
     "exception": false,
     "start_time": "2024-12-27T20:17:24.556994",
     "status": "completed"
    },
    "tags": []
   },
   "outputs": [
    {
     "name": "stdout",
     "output_type": "stream",
     "text": [
      "+-------+--------------------+--------------------+\n",
      "|movieId|               title|              genres|\n",
      "+-------+--------------------+--------------------+\n",
      "|      1|    Toy Story (1995)|Adventure|Animati...|\n",
      "|      2|      Jumanji (1995)|Adventure|Childre...|\n",
      "|      3|Grumpier Old Men ...|      Comedy|Romance|\n",
      "|      4|Waiting to Exhale...|Comedy|Drama|Romance|\n",
      "|      5|Father of the Bri...|              Comedy|\n",
      "|      6|         Heat (1995)|Action|Crime|Thri...|\n",
      "|      7|      Sabrina (1995)|      Comedy|Romance|\n",
      "|      8| Tom and Huck (1995)|  Adventure|Children|\n",
      "|      9| Sudden Death (1995)|              Action|\n",
      "|     10|    GoldenEye (1995)|Action|Adventure|...|\n",
      "|     11|American Presiden...|Comedy|Drama|Romance|\n",
      "|     12|Dracula: Dead and...|       Comedy|Horror|\n",
      "|     13|        Balto (1995)|Adventure|Animati...|\n",
      "|     14|        Nixon (1995)|               Drama|\n",
      "|     15|Cutthroat Island ...|Action|Adventure|...|\n",
      "|     16|       Casino (1995)|         Crime|Drama|\n",
      "|     17|Sense and Sensibi...|       Drama|Romance|\n",
      "|     18|   Four Rooms (1995)|              Comedy|\n",
      "|     19|Ace Ventura: When...|              Comedy|\n",
      "|     20|  Money Train (1995)|Action|Comedy|Cri...|\n",
      "+-------+--------------------+--------------------+\n",
      "only showing top 20 rows\n",
      "\n"
     ]
    }
   ],
   "source": [
    "movies_df.show()"
   ]
  },
  {
   "cell_type": "code",
   "execution_count": 9,
   "id": "a26c8802",
   "metadata": {
    "execution": {
     "iopub.execute_input": "2024-12-27T20:17:24.778987Z",
     "iopub.status.busy": "2024-12-27T20:17:24.778757Z",
     "iopub.status.idle": "2024-12-27T20:17:24.789911Z",
     "shell.execute_reply": "2024-12-27T20:17:24.789103Z"
    },
    "papermill": {
     "duration": 0.020131,
     "end_time": "2024-12-27T20:17:24.791263",
     "exception": false,
     "start_time": "2024-12-27T20:17:24.771132",
     "status": "completed"
    },
    "tags": []
   },
   "outputs": [],
   "source": [
    "movies_df = movies_df.drop('genres')"
   ]
  },
  {
   "cell_type": "code",
   "execution_count": 10,
   "id": "1e6c846f",
   "metadata": {
    "execution": {
     "iopub.execute_input": "2024-12-27T20:17:24.806022Z",
     "iopub.status.busy": "2024-12-27T20:17:24.805782Z",
     "iopub.status.idle": "2024-12-27T20:17:25.038625Z",
     "shell.execute_reply": "2024-12-27T20:17:25.037568Z"
    },
    "papermill": {
     "duration": 0.243076,
     "end_time": "2024-12-27T20:17:25.041328",
     "exception": false,
     "start_time": "2024-12-27T20:17:24.798252",
     "status": "completed"
    },
    "tags": []
   },
   "outputs": [
    {
     "name": "stdout",
     "output_type": "stream",
     "text": [
      "+------+-------+------+----------+\n",
      "|userId|movieId|rating| timestamp|\n",
      "+------+-------+------+----------+\n",
      "|     1|     31|   2.5|1260759144|\n",
      "|     1|   1029|   3.0|1260759179|\n",
      "|     1|   1061|   3.0|1260759182|\n",
      "|     1|   1129|   2.0|1260759185|\n",
      "|     1|   1172|   4.0|1260759205|\n",
      "|     1|   1263|   2.0|1260759151|\n",
      "|     1|   1287|   2.0|1260759187|\n",
      "|     1|   1293|   2.0|1260759148|\n",
      "|     1|   1339|   3.5|1260759125|\n",
      "|     1|   1343|   2.0|1260759131|\n",
      "|     1|   1371|   2.5|1260759135|\n",
      "|     1|   1405|   1.0|1260759203|\n",
      "|     1|   1953|   4.0|1260759191|\n",
      "|     1|   2105|   4.0|1260759139|\n",
      "|     1|   2150|   3.0|1260759194|\n",
      "|     1|   2193|   2.0|1260759198|\n",
      "|     1|   2294|   2.0|1260759108|\n",
      "|     1|   2455|   2.5|1260759113|\n",
      "|     1|   2968|   1.0|1260759200|\n",
      "|     1|   3671|   3.0|1260759117|\n",
      "+------+-------+------+----------+\n",
      "only showing top 20 rows\n",
      "\n"
     ]
    }
   ],
   "source": [
    "ratings_df.show()"
   ]
  },
  {
   "cell_type": "code",
   "execution_count": 11,
   "id": "4964166b",
   "metadata": {
    "execution": {
     "iopub.execute_input": "2024-12-27T20:17:25.066726Z",
     "iopub.status.busy": "2024-12-27T20:17:25.066479Z",
     "iopub.status.idle": "2024-12-27T20:17:25.079259Z",
     "shell.execute_reply": "2024-12-27T20:17:25.078465Z"
    },
    "papermill": {
     "duration": 0.027221,
     "end_time": "2024-12-27T20:17:25.081088",
     "exception": false,
     "start_time": "2024-12-27T20:17:25.053867",
     "status": "completed"
    },
    "tags": []
   },
   "outputs": [],
   "source": [
    "ratings_df = ratings_df.drop('timestamp')"
   ]
  },
  {
   "cell_type": "code",
   "execution_count": 12,
   "id": "2ec4ea6a",
   "metadata": {
    "execution": {
     "iopub.execute_input": "2024-12-27T20:17:25.106801Z",
     "iopub.status.busy": "2024-12-27T20:17:25.106264Z",
     "iopub.status.idle": "2024-12-27T20:17:25.893281Z",
     "shell.execute_reply": "2024-12-27T20:17:25.892436Z"
    },
    "papermill": {
     "duration": 0.80311,
     "end_time": "2024-12-27T20:17:25.895242",
     "exception": false,
     "start_time": "2024-12-27T20:17:25.092132",
     "status": "completed"
    },
    "tags": []
   },
   "outputs": [
    {
     "name": "stdout",
     "output_type": "stream",
     "text": [
      "+------+-------+------+\n",
      "|userId|movieId|rating|\n",
      "+------+-------+------+\n",
      "|     0|      0|     0|\n",
      "+------+-------+------+\n",
      "\n"
     ]
    }
   ],
   "source": [
    "missing_values = ratings_df.select(\n",
    "    [count(when(col(c).isNull() | isnan(c), c)).alias(c) for c in ratings_df.columns]\n",
    ")\n",
    "\n",
    "missing_values.show()"
   ]
  },
  {
   "cell_type": "code",
   "execution_count": 13,
   "id": "74c270d6",
   "metadata": {
    "execution": {
     "iopub.execute_input": "2024-12-27T20:17:25.922750Z",
     "iopub.status.busy": "2024-12-27T20:17:25.922429Z",
     "iopub.status.idle": "2024-12-27T20:17:26.325743Z",
     "shell.execute_reply": "2024-12-27T20:17:26.324637Z"
    },
    "papermill": {
     "duration": 0.418836,
     "end_time": "2024-12-27T20:17:26.327773",
     "exception": false,
     "start_time": "2024-12-27T20:17:25.908937",
     "status": "completed"
    },
    "tags": []
   },
   "outputs": [
    {
     "name": "stdout",
     "output_type": "stream",
     "text": [
      "+-------+-----+\n",
      "|movieId|title|\n",
      "+-------+-----+\n",
      "|      0|    0|\n",
      "+-------+-----+\n",
      "\n"
     ]
    }
   ],
   "source": [
    "missing_values = movies_df.select(\n",
    "    [count(when(col(c).isNull() | isnan(c), c)).alias(c) for c in movies_df.columns]\n",
    ")\n",
    "\n",
    "missing_values.show()"
   ]
  },
  {
   "cell_type": "code",
   "execution_count": 14,
   "id": "cc312bda",
   "metadata": {
    "execution": {
     "iopub.execute_input": "2024-12-27T20:17:26.355827Z",
     "iopub.status.busy": "2024-12-27T20:17:26.355374Z",
     "iopub.status.idle": "2024-12-27T20:18:17.531001Z",
     "shell.execute_reply": "2024-12-27T20:18:17.530034Z"
    },
    "papermill": {
     "duration": 51.190994,
     "end_time": "2024-12-27T20:18:17.532490",
     "exception": false,
     "start_time": "2024-12-27T20:17:26.341496",
     "status": "completed"
    },
    "tags": []
   },
   "outputs": [
    {
     "name": "stdout",
     "output_type": "stream",
     "text": [
      "Epoch 0, Loss: 0.2614, RMSE: 0.6552, MAE: 0.6130\n",
      "Epoch 1, Loss: 0.2085, RMSE: 0.6444, MAE: 0.6017\n",
      "Epoch 2, Loss: 0.1787, RMSE: 0.6342, MAE: 0.5909\n",
      "Epoch 3, Loss: 0.1445, RMSE: 0.6237, MAE: 0.5799\n",
      "Epoch 4, Loss: 0.1277, RMSE: 0.6071, MAE: 0.5627\n",
      "Epoch 5, Loss: 0.1075, RMSE: 0.5858, MAE: 0.5415\n",
      "Epoch 6, Loss: 0.0916, RMSE: 0.5609, MAE: 0.5166\n",
      "Epoch 7, Loss: 0.0727, RMSE: 0.5345, MAE: 0.4900\n",
      "Epoch 8, Loss: 0.0613, RMSE: 0.5111, MAE: 0.4662\n",
      "Epoch 9, Loss: 0.0560, RMSE: 0.4906, MAE: 0.4457\n",
      "Epoch 10, Loss: 0.0506, RMSE: 0.4638, MAE: 0.4188\n",
      "Epoch 11, Loss: 0.0470, RMSE: 0.4400, MAE: 0.3943\n",
      "Epoch 12, Loss: 0.0470, RMSE: 0.4196, MAE: 0.3730\n",
      "Epoch 13, Loss: 0.0449, RMSE: 0.3936, MAE: 0.3489\n",
      "Epoch 14, Loss: 0.0484, RMSE: 0.3763, MAE: 0.3329\n",
      "Epoch 15, Loss: 0.0558, RMSE: 0.3600, MAE: 0.3174\n",
      "Epoch 16, Loss: 0.0573, RMSE: 0.3464, MAE: 0.3041\n",
      "Epoch 17, Loss: 0.0554, RMSE: 0.3345, MAE: 0.2920\n",
      "Epoch 18, Loss: 0.0553, RMSE: 0.3258, MAE: 0.2835\n",
      "Epoch 19, Loss: 0.0447, RMSE: 0.3206, MAE: 0.2786\n",
      "Epoch 20, Loss: 0.0463, RMSE: 0.3177, MAE: 0.2759\n",
      "Epoch 21, Loss: 0.0427, RMSE: 0.3148, MAE: 0.2730\n",
      "Epoch 22, Loss: 0.0461, RMSE: 0.3144, MAE: 0.2727\n",
      "Epoch 23, Loss: 0.0454, RMSE: 0.3159, MAE: 0.2741\n",
      "Epoch 24, Loss: 0.0422, RMSE: 0.3164, MAE: 0.2747\n",
      "Epoch 25, Loss: 0.0446, RMSE: 0.3196, MAE: 0.2777\n",
      "Epoch 26, Loss: 0.0430, RMSE: 0.3234, MAE: 0.2812\n",
      "Epoch 27, Loss: 0.0410, RMSE: 0.3254, MAE: 0.2831\n",
      "Epoch 28, Loss: 0.0400, RMSE: 0.3267, MAE: 0.2844\n",
      "Epoch 29, Loss: 0.0424, RMSE: 0.3283, MAE: 0.2859\n",
      "Epoch 30, Loss: 0.0409, RMSE: 0.3312, MAE: 0.2888\n",
      "Epoch 31, Loss: 0.0430, RMSE: 0.3318, MAE: 0.2894\n",
      "Epoch 32, Loss: 0.0410, RMSE: 0.3321, MAE: 0.2898\n",
      "Epoch 33, Loss: 0.0461, RMSE: 0.3337, MAE: 0.2914\n",
      "Epoch 34, Loss: 0.0422, RMSE: 0.3312, MAE: 0.2888\n",
      "Epoch 35, Loss: 0.0434, RMSE: 0.3298, MAE: 0.2875\n",
      "Epoch 36, Loss: 0.0424, RMSE: 0.3294, MAE: 0.2871\n",
      "Epoch 37, Loss: 0.0414, RMSE: 0.3267, MAE: 0.2845\n",
      "Epoch 38, Loss: 0.0405, RMSE: 0.3258, MAE: 0.2836\n",
      "Epoch 39, Loss: 0.0413, RMSE: 0.3239, MAE: 0.2818\n",
      "Epoch 40, Loss: 0.0412, RMSE: 0.3214, MAE: 0.2795\n",
      "Epoch 41, Loss: 0.0399, RMSE: 0.3195, MAE: 0.2777\n",
      "Epoch 42, Loss: 0.0395, RMSE: 0.3171, MAE: 0.2754\n",
      "Early stopping!\n"
     ]
    },
    {
     "name": "stderr",
     "output_type": "stream",
     "text": [
      "<ipython-input-14-bbf93e4c6e5b>:118: FutureWarning: You are using `torch.load` with `weights_only=False` (the current default value), which uses the default pickle module implicitly. It is possible to construct malicious pickle data which will execute arbitrary code during unpickling (See https://github.com/pytorch/pytorch/blob/main/SECURITY.md#untrusted-models for more details). In a future release, the default value for `weights_only` will be flipped to `True`. This limits the functions that could be executed during unpickling. Arbitrary objects will no longer be allowed to be loaded via this mode unless they are explicitly allowlisted by the user via `torch.serialization.add_safe_globals`. We recommend you start setting `weights_only=True` for any use case where you don't have full control of the loaded file. Please open an issue on GitHub for any issues related to this experimental feature.\n",
      "  model.load_state_dict(torch.load('best_model.pt'))\n"
     ]
    },
    {
     "data": {
      "text/plain": [
       "<All keys matched successfully>"
      ]
     },
     "execution_count": 14,
     "metadata": {},
     "output_type": "execute_result"
    }
   ],
   "source": [
    "user_ids = ratings_df.select(\"userId\").distinct()\n",
    "movie_ids = ratings_df.select(\"movieId\").distinct()\n",
    "\n",
    "user_map = {row.userId: idx for idx, row in enumerate(user_ids.collect())}\n",
    "movie_map = {row.movieId: idx + len(user_map) for idx, row in enumerate(movie_ids.collect())}\n",
    "\n",
    "edges = ratings_df.rdd.map(lambda row: [user_map[row.userId], movie_map[row.movieId]]).collect()\n",
    "edge_index = torch.tensor(edges, dtype=torch.long).t().contiguous()\n",
    "\n",
    "num_users = len(user_map)\n",
    "num_movies = len(movie_map)\n",
    "node_features = torch.eye(num_users + num_movies)\n",
    "\n",
    "ratings = ratings_df.select(\"rating\").rdd.map(lambda row: row.rating).collect()\n",
    "edge_weight = torch.tensor(ratings, dtype=torch.float)\n",
    "edge_weight = (edge_weight - edge_weight.min()) / (edge_weight.max() - edge_weight.min())\n",
    "\n",
    "data = Data(x=node_features, edge_index=edge_index, edge_attr=edge_weight)\n",
    "\n",
    "class GNNRecommender(torch.nn.Module):\n",
    "    def __init__(self, num_features, hidden_channels):\n",
    "        super(GNNRecommender, self).__init__()\n",
    "        \n",
    "        self.conv1 = GCNConv(num_features, hidden_channels)\n",
    "        self.conv2 = GCNConv(hidden_channels, hidden_channels)\n",
    "        self.conv3 = GCNConv(hidden_channels, hidden_channels)\n",
    "        \n",
    "        self.bn1 = BatchNorm1d(hidden_channels)\n",
    "        self.bn2 = BatchNorm1d(hidden_channels)\n",
    "        self.bn3 = BatchNorm1d(hidden_channels)\n",
    "        \n",
    "        self.dropout = Dropout(0.3)\n",
    "        \n",
    "        self.lin1 = Linear(hidden_channels, hidden_channels // 2)\n",
    "        self.lin2 = Linear(hidden_channels // 2, 1)\n",
    "        \n",
    "        self.relu = ReLU()\n",
    "\n",
    "    def forward(self, data):\n",
    "        x, edge_index = data.x, data.edge_index\n",
    "        \n",
    "        x = self.dropout(x)\n",
    "        \n",
    "        x = self.conv1(x, edge_index)\n",
    "        x = self.bn1(x)\n",
    "        x = self.relu(x)\n",
    "        x = self.dropout(x)\n",
    "        \n",
    "        x = self.conv2(x, edge_index)\n",
    "        x = self.bn2(x)\n",
    "        x = self.relu(x)\n",
    "        x = self.dropout(x)\n",
    "       \n",
    "        x = self.conv3(x, edge_index)\n",
    "        x = self.bn3(x)\n",
    "        x = self.relu(x)\n",
    "        x = self.dropout(x)\n",
    "        \n",
    "        x = self.lin1(x)\n",
    "        x = self.relu(x)\n",
    "        x = self.dropout(x)\n",
    "        x = self.lin2(x)\n",
    "        return x\n",
    "\n",
    "model = GNNRecommender(num_features=data.num_node_features, hidden_channels=64)\n",
    "optimizer = torch.optim.AdamW(model.parameters(), lr=0.001, weight_decay=1e-4)\n",
    "criterion = torch.nn.HuberLoss()\n",
    "scheduler = torch.optim.lr_scheduler.ReduceLROnPlateau(optimizer, mode='min', patience=10, factor=0.5)\n",
    "\n",
    "def train():\n",
    "    model.train()\n",
    "    optimizer.zero_grad()\n",
    "    out = model(data)\n",
    "    loss = criterion(out[data.edge_index[0]].squeeze(), data.edge_attr)\n",
    "    loss.backward()\n",
    "    optimizer.step()\n",
    "    return loss.item()\n",
    "\n",
    "def calculate_metrics(pred, true):\n",
    "    pred = pred.squeeze().detach().cpu()\n",
    "    true = true.detach().cpu()\n",
    "    rmse = torch.sqrt(torch.mean((pred - true) ** 2))\n",
    "    mae = torch.mean(torch.abs(pred - true))\n",
    "    return rmse.item(), mae.item()\n",
    "\n",
    "def test():\n",
    "    model.eval()\n",
    "    with torch.no_grad():\n",
    "        out = model(data)\n",
    "        pred = out[data.edge_index[0]]\n",
    "        rmse, mae = calculate_metrics(pred, data.edge_attr)\n",
    "        return pred, rmse, mae\n",
    "\n",
    "best_rmse = float('inf')\n",
    "patience = 0\n",
    "max_patience = 20\n",
    "\n",
    "for epoch in range(200):\n",
    "    loss = train()\n",
    "    pred, rmse, mae = test()\n",
    "    \n",
    "    scheduler.step(rmse)\n",
    "    \n",
    "    print(f\"Epoch {epoch}, Loss: {loss:.4f}, RMSE: {rmse:.4f}, MAE: {mae:.4f}\")\n",
    "    \n",
    "    if rmse < best_rmse:\n",
    "        best_rmse = rmse\n",
    "        patience = 0\n",
    "        torch.save(model.state_dict(), 'best_model.pt')\n",
    "    else:\n",
    "        patience += 1\n",
    "        \n",
    "    if patience >= max_patience:\n",
    "        print(\"Early stopping!\")\n",
    "        break\n",
    "\n",
    "# En iyi modeli yükle\n",
    "model.load_state_dict(torch.load('best_model.pt'))"
   ]
  },
  {
   "cell_type": "code",
   "execution_count": 15,
   "id": "9018ca2a",
   "metadata": {
    "execution": {
     "iopub.execute_input": "2024-12-27T20:18:17.551623Z",
     "iopub.status.busy": "2024-12-27T20:18:17.551382Z",
     "iopub.status.idle": "2024-12-27T20:18:17.555436Z",
     "shell.execute_reply": "2024-12-27T20:18:17.554553Z"
    },
    "papermill": {
     "duration": 0.014804,
     "end_time": "2024-12-27T20:18:17.556771",
     "exception": false,
     "start_time": "2024-12-27T20:18:17.541967",
     "status": "completed"
    },
    "tags": []
   },
   "outputs": [
    {
     "name": "stdout",
     "output_type": "stream",
     "text": [
      "GNNRecommender(\n",
      "  (conv1): GCNConv(9737, 64)\n",
      "  (conv2): GCNConv(64, 64)\n",
      "  (conv3): GCNConv(64, 64)\n",
      "  (bn1): BatchNorm1d(64, eps=1e-05, momentum=0.1, affine=True, track_running_stats=True)\n",
      "  (bn2): BatchNorm1d(64, eps=1e-05, momentum=0.1, affine=True, track_running_stats=True)\n",
      "  (bn3): BatchNorm1d(64, eps=1e-05, momentum=0.1, affine=True, track_running_stats=True)\n",
      "  (dropout): Dropout(p=0.3, inplace=False)\n",
      "  (lin1): Linear(in_features=64, out_features=32, bias=True)\n",
      "  (lin2): Linear(in_features=32, out_features=1, bias=True)\n",
      "  (relu): ReLU()\n",
      ")\n"
     ]
    }
   ],
   "source": [
    "print(model)"
   ]
  },
  {
   "cell_type": "code",
   "execution_count": 16,
   "id": "1f0a0c97",
   "metadata": {
    "execution": {
     "iopub.execute_input": "2024-12-27T20:18:17.575481Z",
     "iopub.status.busy": "2024-12-27T20:18:17.575259Z",
     "iopub.status.idle": "2024-12-27T20:18:19.281018Z",
     "shell.execute_reply": "2024-12-27T20:18:19.280164Z"
    },
    "papermill": {
     "duration": 1.716979,
     "end_time": "2024-12-27T20:18:19.282697",
     "exception": false,
     "start_time": "2024-12-27T20:18:17.565718",
     "status": "completed"
    },
    "tags": []
   },
   "outputs": [
    {
     "name": "stdout",
     "output_type": "stream",
     "text": [
      "\n",
      "Top 10 Movie Recommendations (User ID: 2):\n",
      "1. In the Mouth of Madness (1995) (Estimated Rating: 0.48)\n",
      "2. Cliffhanger (1993) (Estimated Rating: 0.48)\n",
      "3. Wallace & Gromit: A Close Shave (1995) (Estimated Rating: 0.48)\n",
      "4. Favor, The (1994) (Estimated Rating: 0.48)\n",
      "5. Pyromaniac's Love Story, A (1995) (Estimated Rating: 0.48)\n",
      "6. Flower of My Secret, The (La flor de mi secreto) (1995) (Estimated Rating: 0.48)\n",
      "7. Run of the Country, The (1995) (Estimated Rating: 0.48)\n",
      "8. Fresh (1994) (Estimated Rating: 0.48)\n",
      "9. Something to Talk About (1995) (Estimated Rating: 0.48)\n",
      "10. Manhattan Murder Mystery (1993) (Estimated Rating: 0.48)\n"
     ]
    }
   ],
   "source": [
    "def get_recommendations(user_id, top_k=10):\n",
    "    model.eval()\n",
    "    \n",
    "    internal_user_id = user_map[user_id]\n",
    "    \n",
    "    rated_movies = set(ratings_df.filter(ratings_df.userId == user_id)\n",
    "                      .select(\"movieId\")\n",
    "                      .rdd.map(lambda x: x.movieId)\n",
    "                      .collect())\n",
    "    \n",
    "    all_movies = set(movie_map.keys())\n",
    "    unwatched_movies = all_movies - rated_movies\n",
    "    \n",
    "    test_edges = [[internal_user_id, movie_map[movie_id]] for movie_id in unwatched_movies]\n",
    "    test_edge_index = torch.tensor(test_edges, dtype=torch.long).t().contiguous()\n",
    "    \n",
    "    with torch.no_grad():\n",
    "        test_data = Data(x=data.x, edge_index=test_edge_index)\n",
    "        predictions = model(test_data)\n",
    "    \n",
    "    predictions = predictions.squeeze()\n",
    "    original_min = edge_weight.min()\n",
    "    original_max = edge_weight.max()\n",
    "    predictions = predictions * (original_max - original_min) + original_min\n",
    "    \n",
    "    movie_predictions = list(zip(unwatched_movies, predictions.tolist()))\n",
    "    \n",
    "    top_recommendations = sorted(movie_predictions, key=lambda x: x[1], reverse=True)[:top_k]\n",
    "    \n",
    "    recommended_movies = []\n",
    "    for movie_id, pred_rating in top_recommendations:\n",
    "        movie_info = movies_df.filter(movies_df.movieId == movie_id).select(\"title\").first()\n",
    "        movie_title = movie_info.title if movie_info else f\"Unknown Movie ({movie_id})\"\n",
    "        \n",
    "        recommended_movies.append({\n",
    "            'movie_id': movie_id,\n",
    "            'title': movie_title,\n",
    "            'predicted_rating': round(pred_rating, 2)\n",
    "        })\n",
    "    \n",
    "    return recommended_movies\n",
    "\n",
    "user_id = 2\n",
    "recommendations = get_recommendations(user_id, top_k=10)\n",
    "\n",
    "print(f\"\\nTop 10 Movie Recommendations (User ID: {user_id}):\")\n",
    "for i, rec in enumerate(recommendations, 1):\n",
    "    print(f\"{i}. {rec['title']} (Estimated Rating: {rec['predicted_rating']:.2f})\")"
   ]
  }
 ],
 "metadata": {
  "kaggle": {
   "accelerator": "nvidiaTeslaT4",
   "dataSources": [
    {
     "datasetId": 339,
     "sourceId": 77759,
     "sourceType": "datasetVersion"
    },
    {
     "datasetId": 66613,
     "sourceId": 153886,
     "sourceType": "datasetVersion"
    }
   ],
   "dockerImageVersionId": 30823,
   "isGpuEnabled": true,
   "isInternetEnabled": true,
   "language": "python",
   "sourceType": "notebook"
  },
  "kernelspec": {
   "display_name": "Python 3",
   "language": "python",
   "name": "python3"
  },
  "language_info": {
   "codemirror_mode": {
    "name": "ipython",
    "version": 3
   },
   "file_extension": ".py",
   "mimetype": "text/x-python",
   "name": "python",
   "nbconvert_exporter": "python",
   "pygments_lexer": "ipython3",
   "version": "3.10.12"
  },
  "papermill": {
   "default_parameters": {},
   "duration": 117.718639,
   "end_time": "2024-12-27T20:18:21.026272",
   "environment_variables": {},
   "exception": null,
   "input_path": "__notebook__.ipynb",
   "output_path": "__notebook__.ipynb",
   "parameters": {},
   "start_time": "2024-12-27T20:16:23.307633",
   "version": "2.6.0"
  }
 },
 "nbformat": 4,
 "nbformat_minor": 5
}
